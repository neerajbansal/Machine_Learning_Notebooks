{
 "cells": [
  {
   "cell_type": "code",
   "execution_count": 1,
   "metadata": {},
   "outputs": [],
   "source": [
    "import matplotlib.pyplot as plt\n",
    "import numpy as np\n",
    "from sklearn import datasets, linear_model\n",
    "from sklearn.metrics import mean_squared_error, r2_score"
   ]
  },
  {
   "cell_type": "code",
   "execution_count": 1,
   "metadata": {},
   "outputs": [
    {
     "data": {
      "text/plain": [
       "LinearRegression(copy_X=True, fit_intercept=True, n_jobs=1, normalize=False)"
      ]
     },
     "execution_count": 1,
     "metadata": {},
     "output_type": "execute_result"
    }
   ],
   "source": [
    "import matplotlib.pyplot as plt\n",
    "import numpy as np\n",
    "from sklearn import datasets, linear_model\n",
    "from sklearn.metrics import mean_squared_error, r2_score\n",
    "\n",
    "#formula Y = X1 + 2*X2 + 0.5*X3 + noise (we want ridge and lasso to remove this noise)\n",
    "X = [[1,2,4, 1000],[2,4,6, 45321],[4,3,3,45112],[4,6,1,1478],[5,7,4,1256],[1,9,100,1256], [3,5,56,12], [5,3,4,1236], [7,0,6,1258]]\n",
    "Y = [[7],[14],[12.5],[14.5],[21],[73], [41], [21], [10]]\n",
    "\n",
    "regr = linear_model.LinearRegression()\n",
    "\n",
    "# Train the model using the training sets\n",
    "regr.fit(X, Y)\n",
    "\n"
   ]
  },
  {
   "cell_type": "code",
   "execution_count": 5,
   "metadata": {},
   "outputs": [
    {
     "name": "stdout",
     "output_type": "stream",
     "text": [
      "[[11.79948112]\n",
      " [32.60358121]\n",
      " [60.87795429]\n",
      " [37.41430889]\n",
      " [57.07322125]\n",
      " [76.52191928]]\n",
      "Coefficients: \n",
      " [[1.19088340e+00 1.84874021e+00 5.34293898e-01 6.40974698e-06]]\n"
     ]
    }
   ],
   "source": [
    "# Make predictions using the testing set\n",
    "X_test = [[1,4,5,458],[20,3,5,4523],[40,6,3,1258],[30,0,2,12479],[16,0,70,12369],[60,1,5,1478]]\n",
    "Y_pred = regr.predict(X_test)\n",
    "\n",
    "'''\n",
    "highly accurate \n",
    "\n",
    "array([[11.95217108],\n",
    "       [32.2749752 ],\n",
    "       [60.07906029],\n",
    "       [36.80870469],\n",
    "       [56.70557135],\n",
    "       [75.25404103]])\n",
    "       \n",
    "'''\n",
    "print(Y_pred)\n",
    "print('Coefficients: \\n', regr.coef_)"
   ]
  },
  {
   "cell_type": "code",
   "execution_count": 12,
   "metadata": {},
   "outputs": [
    {
     "name": "stdout",
     "output_type": "stream",
     "text": [
      "[[12.00388727]\n",
      " [31.58620627]\n",
      " [58.35665872]\n",
      " [35.88193505]\n",
      " [56.51398631]\n",
      " [72.95158157]]\n",
      "[[1.12401668e+00 1.79120218e+00 5.34834563e-01 4.23230952e-06]]\n"
     ]
    }
   ],
   "source": [
    "from sklearn.linear_model import Ridge\n",
    "\n",
    "rmodel = Ridge(alpha=1)\n",
    "rmodel.fit(X,Y)\n",
    "r_Y_pred = rmodel.predict(X_test)\n",
    "print(r_Y_pred)\n",
    "print(rmodel.coef_)"
   ]
  },
  {
   "cell_type": "code",
   "execution_count": 14,
   "metadata": {},
   "outputs": [
    {
     "name": "stdout",
     "output_type": "stream",
     "text": [
      "[11.96032301 31.82932822 59.00838406 36.21482168 56.56152257 73.7951205 ]\n",
      "[1.14041188e+00 1.81811488e+00 5.34014548e-01 4.74647809e-06]\n"
     ]
    }
   ],
   "source": [
    "from sklearn.linear_model import Lasso\n",
    "\n",
    "lmodel = Lasso(alpha=0.1)\n",
    "lmodel.fit(X,Y)\n",
    "l_Y_pred = lmodel.predict(X_test)\n",
    "print(l_Y_pred)\n",
    "print(lmodel.coef_)"
   ]
  },
  {
   "cell_type": "code",
   "execution_count": null,
   "metadata": {},
   "outputs": [],
   "source": []
  }
 ],
 "metadata": {
  "kernelspec": {
   "display_name": "Python 3",
   "language": "python",
   "name": "python3"
  },
  "language_info": {
   "codemirror_mode": {
    "name": "ipython",
    "version": 3
   },
   "file_extension": ".py",
   "mimetype": "text/x-python",
   "name": "python",
   "nbconvert_exporter": "python",
   "pygments_lexer": "ipython3",
   "version": "3.6.6"
  }
 },
 "nbformat": 4,
 "nbformat_minor": 2
}
