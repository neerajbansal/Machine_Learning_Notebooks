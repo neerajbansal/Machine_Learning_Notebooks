{
 "cells": [
  {
   "cell_type": "code",
   "execution_count": 46,
   "metadata": {},
   "outputs": [
    {
     "name": "stdout",
     "output_type": "stream",
     "text": [
      "[ 0.14404357  1.45427351  0.76103773  0.12167502  0.44386323  0.33367433\n",
      "  1.49407907 -0.20515826  0.3130677  -0.85409574]\n",
      "[-10.65896945  -1.03914421  -0.4066914   -5.22649506   3.80926387\n",
      "  -7.36309702  -2.86272445  -3.56155155   1.59833764   1.40807631]\n",
      "[-3.29215704  0.79952837 -0.93621395 -4.7226796  -3.60267397  4.93183364\n",
      " -0.85026525  2.45407162  2.30965656  0.76820449]\n",
      "[ -45.37731171    1.13940516   -3.81638806 -104.63168028  -54.60962435\n",
      "   14.26534353   -1.12128009   -5.8165549    -4.25972022   -5.74768563]\n"
     ]
    }
   ],
   "source": [
    "import operator\n",
    "\n",
    "import numpy as np\n",
    "import matplotlib.pyplot as plt\n",
    "\n",
    "from sklearn.linear_model import LinearRegression\n",
    "from sklearn.metrics import mean_squared_error, r2_score\n",
    "from sklearn.preprocessing import PolynomialFeatures\n",
    "\n",
    "print(np.random.normal(0, 1, 10))\n",
    "print(np.random.normal(-3, 3, 10))\n",
    "\n",
    "np.random.seed(0)\n",
    "x1 = 2 - 3 * np.random.normal(0, 1, 10)\n",
    "y1 = x1 - 2 * (x1 ** 2) + 0.5 * (x1 ** 3) + np.random.normal(-3, 3, 10)\n",
    "\n",
    "print(x1)\n",
    "print(y1)\n"
   ]
  },
  {
   "cell_type": "code",
   "execution_count": 60,
   "metadata": {},
   "outputs": [
    {
     "name": "stdout",
     "output_type": "stream",
     "text": [
      "[[-3.29215704]\n",
      " [ 0.79952837]\n",
      " [-0.93621395]\n",
      " [-4.7226796 ]\n",
      " [-3.60267397]\n",
      " [ 4.93183364]\n",
      " [-0.85026525]\n",
      " [ 2.45407162]\n",
      " [ 2.30965656]\n",
      " [ 0.76820449]]\n",
      "[[ -45.37731171]\n",
      " [   1.13940516]\n",
      " [  -3.81638806]\n",
      " [-104.63168028]\n",
      " [ -54.60962435]\n",
      " [  14.26534353]\n",
      " [  -1.12128009]\n",
      " [  -5.8165549 ]\n",
      " [  -4.25972022]\n",
      " [  -5.74768563]]\n",
      "[[ 1.         -3.29215704 10.83829796]\n",
      " [ 1.          0.79952837  0.63924562]\n",
      " [ 1.         -0.93621395  0.87649656]\n",
      " [ 1.         -4.7226796  22.30370258]\n",
      " [ 1.         -3.60267397 12.97925974]\n",
      " [ 1.          4.93183364 24.32298305]\n",
      " [ 1.         -0.85026525  0.722951  ]\n",
      " [ 1.          2.45407162  6.02246754]\n",
      " [ 1.          2.30965656  5.3345134 ]\n",
      " [ 1.          0.76820449  0.59013814]]\n"
     ]
    }
   ],
   "source": [
    "\n",
    "# transforming the data to include another axis\n",
    "x = x1[:, np.newaxis]\n",
    "y = y1[:, np.newaxis]\n",
    "\n",
    "print(x)\n",
    "print(y)\n",
    "\n",
    "polynomial_features= PolynomialFeatures(degree=2)\n",
    "x_poly = polynomial_features.fit_transform(x)\n",
    "\n",
    "print(x_poly)\n"
   ]
  },
  {
   "cell_type": "code",
   "execution_count": 57,
   "metadata": {},
   "outputs": [
    {
     "data": {
      "text/plain": [
       "array([[ 0.        ,  9.53625309, -1.72951538]])"
      ]
     },
     "execution_count": 57,
     "metadata": {},
     "output_type": "execute_result"
    }
   ],
   "source": [
    "model = LinearRegression()\n",
    "model.fit(x_poly, y)\n",
    "y_poly_pred = model.predict(x_poly)\n",
    "\n",
    "model.coef_"
   ]
  },
  {
   "cell_type": "code",
   "execution_count": 58,
   "metadata": {},
   "outputs": [
    {
     "data": {
      "image/png": "[encoded data removed]",
      "text/plain": [
       "<Figure size 432x288 with 1 Axes>"
      ]
     },
     "metadata": {
      "needs_background": "light"
     },
     "output_type": "display_data"
    }
   ],
   "source": [
    "plt.scatter(x, y, s=10)\n",
    "# sort the values of x before line plot\n",
    "sort_axis = operator.itemgetter(0)\n",
    "sorted_zip = sorted(zip(x,y_poly_pred), key=sort_axis)\n",
    "x, y_poly_pred = zip(*sorted_zip)\n",
    "plt.plot(x, y_poly_pred, color='m')\n",
    "plt.show()"
   ]
  },
  {
   "cell_type": "code",
   "execution_count": null,
   "metadata": {},
   "outputs": [],
   "source": []
  }
 ],
 "metadata": {
  "kernelspec": {
   "display_name": "Python 3",
   "language": "python",
   "name": "python3"
  },
  "language_info": {
   "codemirror_mode": {
    "name": "ipython",
    "version": 3
   },
   "file_extension": ".py",
   "mimetype": "text/x-python",
   "name": "python",
   "nbconvert_exporter": "python",
   "pygments_lexer": "ipython3",
   "version": "3.6.6"
  }
 },
 "nbformat": 4,
 "nbformat_minor": 2
}
